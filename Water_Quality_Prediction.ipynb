{
 "cells": [
  {
   "cell_type": "code",
   "execution_count": 1,
   "id": "89b246f8",
   "metadata": {},
   "outputs": [],
   "source": [
    "import numpy as np\n",
    "import pandas as pd\n",
    "import matplotlib.pyplot as plt\n",
    "import seaborn as sns\n",
    "import warnings\n",
    "warnings.filterwarnings(\"ignore\")"
   ]
  },
  {
   "cell_type": "code",
   "execution_count": 2,
   "id": "3dfdc257",
   "metadata": {},
   "outputs": [],
   "source": [
    "water_data = pd.read_csv(\"C:\\\\Users\\\\RAM BABU\\\\Downloads\\\\water_potability.csv\")"
   ]
  },
  {
   "cell_type": "code",
   "execution_count": 3,
   "id": "5f006bc1",
   "metadata": {},
   "outputs": [
    {
     "data": {
      "text/html": [
       "<div>\n",
       "<style scoped>\n",
       "    .dataframe tbody tr th:only-of-type {\n",
       "        vertical-align: middle;\n",
       "    }\n",
       "\n",
       "    .dataframe tbody tr th {\n",
       "        vertical-align: top;\n",
       "    }\n",
       "\n",
       "    .dataframe thead th {\n",
       "        text-align: right;\n",
       "    }\n",
       "</style>\n",
       "<table border=\"1\" class=\"dataframe\">\n",
       "  <thead>\n",
       "    <tr style=\"text-align: right;\">\n",
       "      <th></th>\n",
       "      <th>ph</th>\n",
       "      <th>Hardness</th>\n",
       "      <th>Solids</th>\n",
       "      <th>Chloramines</th>\n",
       "      <th>Sulfate</th>\n",
       "      <th>Conductivity</th>\n",
       "      <th>Organic_carbon</th>\n",
       "      <th>Trihalomethanes</th>\n",
       "      <th>Turbidity</th>\n",
       "      <th>Potability</th>\n",
       "    </tr>\n",
       "  </thead>\n",
       "  <tbody>\n",
       "    <tr>\n",
       "      <th>0</th>\n",
       "      <td>NaN</td>\n",
       "      <td>204.890455</td>\n",
       "      <td>20791.318981</td>\n",
       "      <td>7.300212</td>\n",
       "      <td>368.516441</td>\n",
       "      <td>564.308654</td>\n",
       "      <td>10.379783</td>\n",
       "      <td>86.990970</td>\n",
       "      <td>2.963135</td>\n",
       "      <td>0</td>\n",
       "    </tr>\n",
       "    <tr>\n",
       "      <th>1</th>\n",
       "      <td>3.716080</td>\n",
       "      <td>129.422921</td>\n",
       "      <td>18630.057858</td>\n",
       "      <td>6.635246</td>\n",
       "      <td>NaN</td>\n",
       "      <td>592.885359</td>\n",
       "      <td>15.180013</td>\n",
       "      <td>56.329076</td>\n",
       "      <td>4.500656</td>\n",
       "      <td>0</td>\n",
       "    </tr>\n",
       "    <tr>\n",
       "      <th>2</th>\n",
       "      <td>8.099124</td>\n",
       "      <td>224.236259</td>\n",
       "      <td>19909.541732</td>\n",
       "      <td>9.275884</td>\n",
       "      <td>NaN</td>\n",
       "      <td>418.606213</td>\n",
       "      <td>16.868637</td>\n",
       "      <td>66.420093</td>\n",
       "      <td>3.055934</td>\n",
       "      <td>0</td>\n",
       "    </tr>\n",
       "    <tr>\n",
       "      <th>3</th>\n",
       "      <td>8.316766</td>\n",
       "      <td>214.373394</td>\n",
       "      <td>22018.417441</td>\n",
       "      <td>8.059332</td>\n",
       "      <td>356.886136</td>\n",
       "      <td>363.266516</td>\n",
       "      <td>18.436524</td>\n",
       "      <td>100.341674</td>\n",
       "      <td>4.628771</td>\n",
       "      <td>0</td>\n",
       "    </tr>\n",
       "    <tr>\n",
       "      <th>4</th>\n",
       "      <td>9.092223</td>\n",
       "      <td>181.101509</td>\n",
       "      <td>17978.986339</td>\n",
       "      <td>6.546600</td>\n",
       "      <td>310.135738</td>\n",
       "      <td>398.410813</td>\n",
       "      <td>11.558279</td>\n",
       "      <td>31.997993</td>\n",
       "      <td>4.075075</td>\n",
       "      <td>0</td>\n",
       "    </tr>\n",
       "  </tbody>\n",
       "</table>\n",
       "</div>"
      ],
      "text/plain": [
       "         ph    Hardness        Solids  Chloramines     Sulfate  Conductivity  \\\n",
       "0       NaN  204.890455  20791.318981     7.300212  368.516441    564.308654   \n",
       "1  3.716080  129.422921  18630.057858     6.635246         NaN    592.885359   \n",
       "2  8.099124  224.236259  19909.541732     9.275884         NaN    418.606213   \n",
       "3  8.316766  214.373394  22018.417441     8.059332  356.886136    363.266516   \n",
       "4  9.092223  181.101509  17978.986339     6.546600  310.135738    398.410813   \n",
       "\n",
       "   Organic_carbon  Trihalomethanes  Turbidity  Potability  \n",
       "0       10.379783        86.990970   2.963135           0  \n",
       "1       15.180013        56.329076   4.500656           0  \n",
       "2       16.868637        66.420093   3.055934           0  \n",
       "3       18.436524       100.341674   4.628771           0  \n",
       "4       11.558279        31.997993   4.075075           0  "
      ]
     },
     "execution_count": 3,
     "metadata": {},
     "output_type": "execute_result"
    }
   ],
   "source": [
    "water_data.head()"
   ]
  },
  {
   "cell_type": "code",
   "execution_count": 4,
   "id": "b450c3df",
   "metadata": {},
   "outputs": [
    {
     "data": {
      "text/plain": [
       "Index(['ph', 'Hardness', 'Solids', 'Chloramines', 'Sulfate', 'Conductivity',\n",
       "       'Organic_carbon', 'Trihalomethanes', 'Turbidity', 'Potability'],\n",
       "      dtype='object')"
      ]
     },
     "execution_count": 4,
     "metadata": {},
     "output_type": "execute_result"
    }
   ],
   "source": [
    "water_data.columns"
   ]
  },
  {
   "cell_type": "code",
   "execution_count": 5,
   "id": "eeaa1f3a",
   "metadata": {},
   "outputs": [],
   "source": [
    "water_data[\"ph\"]=water_data[\"ph\"].fillna(water_data[\"ph\"].mean())\n",
    "water_data[\"Sulfate\"]=water_data[\"Sulfate\"].fillna(water_data[\"Sulfate\"].mean())\n",
    "water_data[\"Trihalomethanes\"]=water_data[\"Trihalomethanes\"].fillna(water_data[\"Trihalomethanes\"].mean())"
   ]
  },
  {
   "cell_type": "code",
   "execution_count": 6,
   "id": "7da382eb",
   "metadata": {},
   "outputs": [],
   "source": [
    "x=water_data.drop(\"Potability\",axis = 1)\n",
    "y = water_data[\"Potability\"]"
   ]
  },
  {
   "cell_type": "code",
   "execution_count": 7,
   "id": "c861b2bd",
   "metadata": {},
   "outputs": [
    {
     "data": {
      "text/html": [
       "<div>\n",
       "<style scoped>\n",
       "    .dataframe tbody tr th:only-of-type {\n",
       "        vertical-align: middle;\n",
       "    }\n",
       "\n",
       "    .dataframe tbody tr th {\n",
       "        vertical-align: top;\n",
       "    }\n",
       "\n",
       "    .dataframe thead th {\n",
       "        text-align: right;\n",
       "    }\n",
       "</style>\n",
       "<table border=\"1\" class=\"dataframe\">\n",
       "  <thead>\n",
       "    <tr style=\"text-align: right;\">\n",
       "      <th></th>\n",
       "      <th>ph</th>\n",
       "      <th>Hardness</th>\n",
       "      <th>Solids</th>\n",
       "      <th>Chloramines</th>\n",
       "      <th>Sulfate</th>\n",
       "      <th>Conductivity</th>\n",
       "      <th>Organic_carbon</th>\n",
       "      <th>Trihalomethanes</th>\n",
       "      <th>Turbidity</th>\n",
       "    </tr>\n",
       "  </thead>\n",
       "  <tbody>\n",
       "    <tr>\n",
       "      <th>0</th>\n",
       "      <td>7.080795</td>\n",
       "      <td>204.890455</td>\n",
       "      <td>20791.318981</td>\n",
       "      <td>7.300212</td>\n",
       "      <td>368.516441</td>\n",
       "      <td>564.308654</td>\n",
       "      <td>10.379783</td>\n",
       "      <td>86.990970</td>\n",
       "      <td>2.963135</td>\n",
       "    </tr>\n",
       "    <tr>\n",
       "      <th>1</th>\n",
       "      <td>3.716080</td>\n",
       "      <td>129.422921</td>\n",
       "      <td>18630.057858</td>\n",
       "      <td>6.635246</td>\n",
       "      <td>333.775777</td>\n",
       "      <td>592.885359</td>\n",
       "      <td>15.180013</td>\n",
       "      <td>56.329076</td>\n",
       "      <td>4.500656</td>\n",
       "    </tr>\n",
       "    <tr>\n",
       "      <th>2</th>\n",
       "      <td>8.099124</td>\n",
       "      <td>224.236259</td>\n",
       "      <td>19909.541732</td>\n",
       "      <td>9.275884</td>\n",
       "      <td>333.775777</td>\n",
       "      <td>418.606213</td>\n",
       "      <td>16.868637</td>\n",
       "      <td>66.420093</td>\n",
       "      <td>3.055934</td>\n",
       "    </tr>\n",
       "    <tr>\n",
       "      <th>3</th>\n",
       "      <td>8.316766</td>\n",
       "      <td>214.373394</td>\n",
       "      <td>22018.417441</td>\n",
       "      <td>8.059332</td>\n",
       "      <td>356.886136</td>\n",
       "      <td>363.266516</td>\n",
       "      <td>18.436524</td>\n",
       "      <td>100.341674</td>\n",
       "      <td>4.628771</td>\n",
       "    </tr>\n",
       "    <tr>\n",
       "      <th>4</th>\n",
       "      <td>9.092223</td>\n",
       "      <td>181.101509</td>\n",
       "      <td>17978.986339</td>\n",
       "      <td>6.546600</td>\n",
       "      <td>310.135738</td>\n",
       "      <td>398.410813</td>\n",
       "      <td>11.558279</td>\n",
       "      <td>31.997993</td>\n",
       "      <td>4.075075</td>\n",
       "    </tr>\n",
       "  </tbody>\n",
       "</table>\n",
       "</div>"
      ],
      "text/plain": [
       "         ph    Hardness        Solids  Chloramines     Sulfate  Conductivity  \\\n",
       "0  7.080795  204.890455  20791.318981     7.300212  368.516441    564.308654   \n",
       "1  3.716080  129.422921  18630.057858     6.635246  333.775777    592.885359   \n",
       "2  8.099124  224.236259  19909.541732     9.275884  333.775777    418.606213   \n",
       "3  8.316766  214.373394  22018.417441     8.059332  356.886136    363.266516   \n",
       "4  9.092223  181.101509  17978.986339     6.546600  310.135738    398.410813   \n",
       "\n",
       "   Organic_carbon  Trihalomethanes  Turbidity  \n",
       "0       10.379783        86.990970   2.963135  \n",
       "1       15.180013        56.329076   4.500656  \n",
       "2       16.868637        66.420093   3.055934  \n",
       "3       18.436524       100.341674   4.628771  \n",
       "4       11.558279        31.997993   4.075075  "
      ]
     },
     "execution_count": 7,
     "metadata": {},
     "output_type": "execute_result"
    }
   ],
   "source": [
    "x.head()"
   ]
  },
  {
   "cell_type": "code",
   "execution_count": 8,
   "id": "461c2727",
   "metadata": {},
   "outputs": [
    {
     "data": {
      "text/plain": [
       "0    0\n",
       "1    0\n",
       "2    0\n",
       "3    0\n",
       "4    0\n",
       "Name: Potability, dtype: int64"
      ]
     },
     "execution_count": 8,
     "metadata": {},
     "output_type": "execute_result"
    }
   ],
   "source": [
    "y.head()"
   ]
  },
  {
   "cell_type": "code",
   "execution_count": 9,
   "id": "c3116989",
   "metadata": {},
   "outputs": [],
   "source": [
    "from sklearn.preprocessing import StandardScaler\n",
    "std_scaler=StandardScaler()"
   ]
  },
  {
   "cell_type": "code",
   "execution_count": 10,
   "id": "59ca2161",
   "metadata": {},
   "outputs": [
    {
     "data": {
      "text/plain": [
       "array([[-1.02733269e-14,  2.59194711e-01, -1.39470871e-01, ...,\n",
       "        -1.18065057e+00,  1.30614943e+00, -1.28629758e+00],\n",
       "       [-2.28933938e+00, -2.03641367e+00, -3.85986650e-01, ...,\n",
       "         2.70597240e-01, -6.38479983e-01,  6.84217891e-01],\n",
       "       [ 6.92867789e-01,  8.47664833e-01, -2.40047337e-01, ...,\n",
       "         7.81116857e-01,  1.50940884e-03, -1.16736546e+00],\n",
       "       ...,\n",
       "       [ 1.59125368e+00, -6.26829230e-01,  1.27080989e+00, ...,\n",
       "        -9.81329234e-01,  2.18748247e-01, -8.56006782e-01],\n",
       "       [-1.32951593e+00,  1.04135450e+00, -1.14405809e+00, ...,\n",
       "        -9.42063817e-01,  7.03468419e-01,  9.50797383e-01],\n",
       "       [ 5.40150905e-01, -3.85462310e-02, -5.25811937e-01, ...,\n",
       "         5.60940070e-01,  7.80223466e-01, -2.12445866e+00]])"
      ]
     },
     "execution_count": 10,
     "metadata": {},
     "output_type": "execute_result"
    }
   ],
   "source": [
    "x_scaled=std_scaler.fit_transform(x)\n",
    "x_scaled"
   ]
  },
  {
   "cell_type": "code",
   "execution_count": 11,
   "id": "78761df2",
   "metadata": {},
   "outputs": [],
   "source": [
    "from sklearn.model_selection import train_test_split\n",
    "x_train,x_test,y_train,y_test=train_test_split(x,y, test_size=0.2,random_state=42,stratify=y)"
   ]
  },
  {
   "cell_type": "code",
   "execution_count": 12,
   "id": "551b66ff",
   "metadata": {},
   "outputs": [
    {
     "data": {
      "text/plain": [
       "((2620, 9), (656, 9))"
      ]
     },
     "execution_count": 12,
     "metadata": {},
     "output_type": "execute_result"
    }
   ],
   "source": [
    "x_train.shape,x_test.shape"
   ]
  },
  {
   "cell_type": "code",
   "execution_count": 13,
   "id": "d40ca4f6",
   "metadata": {},
   "outputs": [],
   "source": [
    "from sklearn.preprocessing import StandardScaler\n",
    "from sklearn.model_selection import train_test_split, cross_val_score, GridSearchCV, RandomizedSearchCV, cross_validate, RepeatedStratifiedKFold\n",
    "from sklearn.linear_model import LogisticRegression, SGDClassifier, RidgeClassifier, PassiveAggressiveClassifier\n",
    "from sklearn.model_selection import train_test_split\n",
    "from sklearn.metrics import accuracy_score, classification_report, confusion_matrix\n",
    "import scipy, joblib\n",
    "import pickle\n",
    "from sklearn.linear_model import LogisticRegression\n",
    "from sklearn.tree import DecisionTreeClassifier\n",
    "from sklearn.ensemble import RandomForestClassifier\n",
    "from sklearn.neighbors import KNeighborsClassifier\n",
    "from sklearn.svm import SVC\n",
    "from xgboost import XGBClassifier\n",
    "from sklearn.ensemble import ExtraTreesClassifier"
   ]
  },
  {
   "cell_type": "code",
   "execution_count": 14,
   "id": "7ccbafb9",
   "metadata": {},
   "outputs": [],
   "source": [
    "lr=LogisticRegression()\n",
    "dt=DecisionTreeClassifier()\n",
    "rf=RandomForestClassifier()\n",
    "etc=ExtraTreesClassifier()\n",
    "svc=SVC()\n",
    "knn=KNeighborsClassifier()\n",
    "xgb=XGBClassifier()"
   ]
  },
  {
   "cell_type": "code",
   "execution_count": 15,
   "id": "83880865",
   "metadata": {},
   "outputs": [],
   "source": [
    "from sklearn.model_selection import cross_val_score"
   ]
  },
  {
   "cell_type": "code",
   "execution_count": 16,
   "id": "7af4a2fe",
   "metadata": {},
   "outputs": [],
   "source": [
    "models=[lr,dt,rf,etc,svc,knn,xgb]\n",
    "features=x_scaled\n",
    "labels=y\n",
    "cv=5\n",
    "accu_list=[]\n",
    "modelname=[]\n",
    "for model in models:\n",
    "    model_name=model.__class__.__name__\n",
    "    accuries = cross_val_score(model,features,labels,scoring='accuracy',cv=5)\n",
    "    accu_list.append(accuries.mean()*100)\n",
    "    modelname.append(model_name)"
   ]
  },
  {
   "cell_type": "code",
   "execution_count": 17,
   "id": "17d2564e",
   "metadata": {},
   "outputs": [],
   "source": [
    "model_acc_df = pd.DataFrame({\"Model\":modelname,\"Cross_Val_Accuracy\":accu_list})"
   ]
  },
  {
   "cell_type": "code",
   "execution_count": 18,
   "id": "3174a3a2",
   "metadata": {},
   "outputs": [
    {
     "data": {
      "text/html": [
       "<div>\n",
       "<style scoped>\n",
       "    .dataframe tbody tr th:only-of-type {\n",
       "        vertical-align: middle;\n",
       "    }\n",
       "\n",
       "    .dataframe tbody tr th {\n",
       "        vertical-align: top;\n",
       "    }\n",
       "\n",
       "    .dataframe thead th {\n",
       "        text-align: right;\n",
       "    }\n",
       "</style>\n",
       "<table border=\"1\" class=\"dataframe\">\n",
       "  <thead>\n",
       "    <tr style=\"text-align: right;\">\n",
       "      <th></th>\n",
       "      <th>Model</th>\n",
       "      <th>Cross_Val_Accuracy</th>\n",
       "    </tr>\n",
       "  </thead>\n",
       "  <tbody>\n",
       "    <tr>\n",
       "      <th>0</th>\n",
       "      <td>LogisticRegression</td>\n",
       "      <td>61.019549</td>\n",
       "    </tr>\n",
       "    <tr>\n",
       "      <th>1</th>\n",
       "      <td>DecisionTreeClassifier</td>\n",
       "      <td>57.906861</td>\n",
       "    </tr>\n",
       "    <tr>\n",
       "      <th>2</th>\n",
       "      <td>RandomForestClassifier</td>\n",
       "      <td>64.164448</td>\n",
       "    </tr>\n",
       "    <tr>\n",
       "      <th>3</th>\n",
       "      <td>ExtraTreesClassifier</td>\n",
       "      <td>63.370462</td>\n",
       "    </tr>\n",
       "    <tr>\n",
       "      <th>4</th>\n",
       "      <td>SVC</td>\n",
       "      <td>65.080339</td>\n",
       "    </tr>\n",
       "    <tr>\n",
       "      <th>5</th>\n",
       "      <td>KNeighborsClassifier</td>\n",
       "      <td>59.340579</td>\n",
       "    </tr>\n",
       "    <tr>\n",
       "      <th>6</th>\n",
       "      <td>XGBClassifier</td>\n",
       "      <td>59.616459</td>\n",
       "    </tr>\n",
       "  </tbody>\n",
       "</table>\n",
       "</div>"
      ],
      "text/plain": [
       "                    Model  Cross_Val_Accuracy\n",
       "0      LogisticRegression           61.019549\n",
       "1  DecisionTreeClassifier           57.906861\n",
       "2  RandomForestClassifier           64.164448\n",
       "3    ExtraTreesClassifier           63.370462\n",
       "4                     SVC           65.080339\n",
       "5    KNeighborsClassifier           59.340579\n",
       "6           XGBClassifier           59.616459"
      ]
     },
     "execution_count": 18,
     "metadata": {},
     "output_type": "execute_result"
    }
   ],
   "source": [
    "model_acc_df"
   ]
  },
  {
   "cell_type": "code",
   "execution_count": 19,
   "id": "5e5b4ba9",
   "metadata": {},
   "outputs": [],
   "source": [
    "svc.fit(x_train,y_train)\n",
    "etc.fit(x_train,y_train)\n",
    "rf.fit(x_train,y_train)\n",
    "y_pred_rf=rf.predict(x_test)\n",
    "y_pred_svc=svc.predict(x_test)\n",
    "y_pred_etc=etc.predict(x_test)"
   ]
  },
  {
   "cell_type": "code",
   "execution_count": 20,
   "id": "fdcdf710",
   "metadata": {},
   "outputs": [
    {
     "name": "stdout",
     "output_type": "stream",
     "text": [
      "              precision    recall  f1-score   support\n",
      "\n",
      "           0       0.66      0.88      0.76       400\n",
      "           1       0.61      0.30      0.41       256\n",
      "\n",
      "    accuracy                           0.65       656\n",
      "   macro avg       0.64      0.59      0.58       656\n",
      "weighted avg       0.64      0.65      0.62       656\n",
      "\n"
     ]
    }
   ],
   "source": [
    "print(classification_report(y_test,y_pred_rf))\n"
   ]
  },
  {
   "cell_type": "code",
   "execution_count": 21,
   "id": "3a722542",
   "metadata": {},
   "outputs": [
    {
     "name": "stdout",
     "output_type": "stream",
     "text": [
      "              precision    recall  f1-score   support\n",
      "\n",
      "           0       0.61      1.00      0.76       400\n",
      "           1       0.00      0.00      0.00       256\n",
      "\n",
      "    accuracy                           0.61       656\n",
      "   macro avg       0.30      0.50      0.38       656\n",
      "weighted avg       0.37      0.61      0.46       656\n",
      "\n"
     ]
    }
   ],
   "source": [
    "print(classification_report(y_test,y_pred_svc))"
   ]
  },
  {
   "cell_type": "code",
   "execution_count": 22,
   "id": "84d0e05e",
   "metadata": {},
   "outputs": [
    {
     "name": "stdout",
     "output_type": "stream",
     "text": [
      "              precision    recall  f1-score   support\n",
      "\n",
      "           0       0.67      0.91      0.77       400\n",
      "           1       0.68      0.29      0.41       256\n",
      "\n",
      "    accuracy                           0.67       656\n",
      "   macro avg       0.68      0.60      0.59       656\n",
      "weighted avg       0.67      0.67      0.63       656\n",
      "\n"
     ]
    }
   ],
   "source": [
    "print(classification_report(y_test,y_pred_etc))"
   ]
  },
  {
   "cell_type": "code",
   "execution_count": 23,
   "id": "0a9ac442",
   "metadata": {},
   "outputs": [
    {
     "data": {
      "image/png": "[encoded data removed]",
      "text/plain": [
       "<Figure size 700x500 with 1 Axes>"
      ]
     },
     "metadata": {},
     "output_type": "display_data"
    }
   ],
   "source": [
    "from sklearn.metrics import roc_curve, auc\n",
    "import matplotlib.pyplot as plt\n",
    "\n",
    "y_scores = etc.predict_proba(x_test)[:, 1]\n",
    "fpr, tpr, thresholds = roc_curve(y_test, y_scores)\n",
    "roc_auc = auc(fpr, tpr)\n",
    "\n",
    "plt.figure(figsize=(7, 5))\n",
    "plt.plot(fpr, tpr, color=\"blue\", lw=2, label=f'ROC curve (area = {roc_auc})')\n",
    "plt.plot([0, 1], [0, 1], color=\"red\", lw=2, linestyle=\"--\")\n",
    "plt.xlim([0.0, 1.0])\n",
    "plt.ylim([0.0, 1.05])\n",
    "plt.xlabel(\"False Positive Rate\")\n",
    "plt.ylabel(\"True Positive Rate\")\n",
    "plt.title(\"Receiver Operating Characteristic (ROC)\")\n",
    "plt.legend(loc=\"lower right\")\n",
    "plt.show()\n"
   ]
  },
  {
   "cell_type": "code",
   "execution_count": 24,
   "id": "1bcd9722",
   "metadata": {},
   "outputs": [],
   "source": [
    "#Random Forest\n",
    "params_rf = {'n_estimators':[100,200, 350, 500], 'min_samples_leaf':[2, 10, 30],\"min_samples_split\":[2,6],\"criterion\":[\"gini\",\"entropy\"]}\n",
    "grid_rf = GridSearchCV(rf, param_grid=params_rf, cv=5)"
   ]
  },
  {
   "cell_type": "code",
   "execution_count": 25,
   "id": "44f7b4e0",
   "metadata": {},
   "outputs": [],
   "source": [
    "params_RF = {\n",
    "    'n_estimators': [50, 100, 200],\n",
    "    'max_depth': [None, 10, 20],\n",
    "    'min_samples_split': [2, 5, 10],\n",
    "    'min_samples_leaf': [1, 2, 4],\n",
    "    'bootstrap': [True, False]\n",
    "}\n"
   ]
  },
  {
   "cell_type": "code",
   "execution_count": 26,
   "id": "bf1e371a",
   "metadata": {},
   "outputs": [
    {
     "name": "stdout",
     "output_type": "stream",
     "text": [
      "Fitting 3 folds for each of 162 candidates, totalling 486 fits\n",
      "Best Hyperparameters for random forest are = {'bootstrap': True, 'max_depth': None, 'min_samples_leaf': 1, 'min_samples_split': 10, 'n_estimators': 200}\n"
     ]
    }
   ],
   "source": [
    "from sklearn.model_selection import GridSearchCV, StratifiedKFold\n",
    "from sklearn.ensemble import RandomForestClassifier\n",
    "\n",
    "cv_method = StratifiedKFold(n_splits=3)\n",
    "GridSearchCV_RF = GridSearchCV(estimator=RandomForestClassifier(),\n",
    "                               param_grid=params_RF,\n",
    "                               cv=cv_method,\n",
    "                               verbose=1,\n",
    "                               n_jobs=2,\n",
    "                               scoring=\"accuracy\",\n",
    "                               return_train_score=True)\n",
    "GridSearchCV_RF.fit(x_train, y_train)\n",
    "best_params_RF = GridSearchCV_RF.best_params_\n",
    "print(\"Best Hyperparameters for random forest are =\", best_params_RF)\n"
   ]
  },
  {
   "cell_type": "code",
   "execution_count": 27,
   "id": "6b026cf5",
   "metadata": {},
   "outputs": [
    {
     "data": {
      "text/plain": [
       "RandomForestClassifier(min_samples_split=10, n_estimators=200)"
      ]
     },
     "execution_count": 27,
     "metadata": {},
     "output_type": "execute_result"
    }
   ],
   "source": [
    "best_estimator = GridSearchCV_RF.best_estimator_\n",
    "best_estimator"
   ]
  },
  {
   "cell_type": "code",
   "execution_count": 28,
   "id": "d49b27b5",
   "metadata": {},
   "outputs": [
    {
     "name": "stdout",
     "output_type": "stream",
     "text": [
      "              precision    recall  f1-score   support\n",
      "\n",
      "           0       0.67      0.90      0.77       400\n",
      "           1       0.67      0.31      0.42       256\n",
      "\n",
      "    accuracy                           0.67       656\n",
      "   macro avg       0.67      0.61      0.60       656\n",
      "weighted avg       0.67      0.67      0.63       656\n",
      "\n"
     ]
    }
   ],
   "source": [
    "best_estimator = GridSearchCV_RF.best_estimator_\n",
    "best_estimator.fit(x_train,y_train)\n",
    "y_pred_best = best_estimator.predict(x_test)\n",
    "print(classification_report(y_test,y_pred_best))"
   ]
  },
  {
   "cell_type": "code",
   "execution_count": 29,
   "id": "1deef1ca",
   "metadata": {},
   "outputs": [
    {
     "name": "stdout",
     "output_type": "stream",
     "text": [
      "Accuracy of Random Forest Model = 67.07%\n"
     ]
    }
   ],
   "source": [
    "from sklearn.metrics import accuracy_score\n",
    "\n",
    "# Assuming y_pred_best is the predictions made by your model on the test set\n",
    "accuracy = accuracy_score(y_test, y_pred_best)\n",
    "print(f\"Accuracy of Random Forest Model = {round(accuracy*100, 2)}%\")\n"
   ]
  },
  {
   "cell_type": "code",
   "execution_count": 30,
   "id": "65bee953",
   "metadata": {},
   "outputs": [
    {
     "data": {
      "text/plain": [
       "Index(['ph', 'Hardness', 'Solids', 'Chloramines', 'Sulfate', 'Conductivity',\n",
       "       'Organic_carbon', 'Trihalomethanes', 'Turbidity', 'Potability'],\n",
       "      dtype='object')"
      ]
     },
     "execution_count": 30,
     "metadata": {},
     "output_type": "execute_result"
    }
   ],
   "source": [
    "water_data.columns"
   ]
  },
  {
   "cell_type": "code",
   "execution_count": 31,
   "id": "ffd52390",
   "metadata": {},
   "outputs": [
    {
     "data": {
      "text/plain": [
       "[8.099124189298397,\n",
       " 224.23625939355776,\n",
       " 19909.541732292397,\n",
       " 9.275883602694089,\n",
       " 333.7757766108134,\n",
       " 418.6062130644815,\n",
       " 16.868636929550973,\n",
       " 66.42009251176368,\n",
       " 3.0559337496641685]"
      ]
     },
     "execution_count": 31,
     "metadata": {},
     "output_type": "execute_result"
    }
   ],
   "source": [
    "list1 = water_data.iloc[2:3,0:9].values.flatten().tolist()\n",
    "list1"
   ]
  },
  {
   "cell_type": "code",
   "execution_count": 32,
   "id": "ad60eefd",
   "metadata": {},
   "outputs": [
    {
     "data": {
      "text/plain": [
       "Index(['ph', 'Hardness', 'Solids', 'Chloramines', 'Sulfate', 'Conductivity',\n",
       "       'Organic_carbon', 'Trihalomethanes', 'Turbidity', 'Potability'],\n",
       "      dtype='object')"
      ]
     },
     "execution_count": 32,
     "metadata": {},
     "output_type": "execute_result"
    }
   ],
   "source": [
    "water_data.columns"
   ]
  },
  {
   "cell_type": "code",
   "execution_count": 33,
   "id": "887e1edc",
   "metadata": {},
   "outputs": [
    {
     "name": "stdout",
     "output_type": "stream",
     "text": [
      "enter the ph value = 7\n",
      "enter the Hardness value = 54\n",
      "enter the Solids value = 65\n",
      "enter the Chloramines value = 21\n",
      "enter the Sulfate value = 65\n",
      "enter the Conductivity value = 21\n",
      "enter the organic_carbon value = 32\n",
      "enter the Trihalomethanes value = 54\n",
      "enter the Turbidity value = 12\n"
     ]
    }
   ],
   "source": [
    "ph=float(input(\"enter the ph value = \"))\n",
    "Hardness=float(input(\"enter the Hardness value = \"))\n",
    "Solids=float(input(\"enter the Solids value = \"))\n",
    "Chloramines=float(input(\"enter the Chloramines value = \"))\n",
    "Sulfate=float(input(\"enter the Sulfate value = \"))\n",
    "Conductivity=float(input(\"enter the Conductivity value = \"))\n",
    "Organic_carbon=float(input(\"enter the organic_carbon value = \"))\n",
    "Trihalomethanes =float(input(\"enter the Trihalomethanes value = \"))\n",
    "Turbidity=float(input(\"enter the Turbidity value = \"))"
   ]
  },
  {
   "cell_type": "code",
   "execution_count": 34,
   "id": "06524663",
   "metadata": {},
   "outputs": [],
   "source": [
    "input_data=[ph,Hardness, Solids, Chloramines, Sulfate, Conductivity,\n",
    "       Organic_carbon, Trihalomethanes, Turbidity]"
   ]
  },
  {
   "cell_type": "code",
   "execution_count": 35,
   "id": "15ca6eb7",
   "metadata": {},
   "outputs": [
    {
     "data": {
      "text/plain": [
       "array([[-0.05497228, -4.33066494, -2.5035372 ,  8.7675916 , -7.4376696 ,\n",
       "        -5.01418698,  5.35576376, -0.78619396, 10.29551678]])"
      ]
     },
     "execution_count": 35,
     "metadata": {},
     "output_type": "execute_result"
    }
   ],
   "source": [
    "water_data_input=std_scaler.transform([[ph,Hardness, Solids, Chloramines, Sulfate, Conductivity,\n",
    "       Organic_carbon, Trihalomethanes, Turbidity]])\n",
    "water_data_input"
   ]
  },
  {
   "cell_type": "code",
   "execution_count": 36,
   "id": "cac36bef",
   "metadata": {},
   "outputs": [
    {
     "data": {
      "text/plain": [
       "array([0], dtype=int64)"
      ]
     },
     "execution_count": 36,
     "metadata": {},
     "output_type": "execute_result"
    }
   ],
   "source": [
    "model_prediction=best_estimator.predict(water_data_input)\n",
    "model_prediction"
   ]
  },
  {
   "cell_type": "code",
   "execution_count": 37,
   "id": "f7160551",
   "metadata": {},
   "outputs": [
    {
     "name": "stdout",
     "output_type": "stream",
     "text": [
      "water is not safe\n"
     ]
    }
   ],
   "source": [
    "if model_prediction[0] ==0:\n",
    "    print(\"water is not safe\")\n",
    "else:\n",
    "    print(\"water is safe\")"
   ]
  },
  {
   "cell_type": "code",
   "execution_count": 38,
   "id": "7966b3eb",
   "metadata": {},
   "outputs": [],
   "source": [
    " def water_Quality_prediction(input_data):\n",
    "        scaled_data = std_scaler.transform([input_data])\n",
    "        model_prediction=best_estimator.predict(scaled_data)\n",
    "        if model_prediction[0] ==0:\n",
    "            return \"water is not safe\"\n",
    "        else:\n",
    "            return \"water is safe\""
   ]
  },
  {
   "cell_type": "code",
   "execution_count": 39,
   "id": "bc653d6f",
   "metadata": {},
   "outputs": [
    {
     "name": "stdout",
     "output_type": "stream",
     "text": [
      "enter the ph value = 7\n",
      "enter the Hardness value = 54\n",
      "enter the Solids value = 62\n",
      "enter the Chloramines value = 32\n",
      "enter the Sulfate value = 21\n",
      "enter the Conductivity value = 45\n",
      "enter the organic_carbon value = 125\n",
      "enter the Trihalomethanes value = 126\n",
      "enter the Turbidity value = 123\n"
     ]
    },
    {
     "data": {
      "text/plain": [
       "'water is safe'"
      ]
     },
     "execution_count": 39,
     "metadata": {},
     "output_type": "execute_result"
    }
   ],
   "source": [
    "ph=float(input(\"enter the ph value = \"))\n",
    "Hardness=float(input(\"enter the Hardness value = \"))\n",
    "Solids=float(input(\"enter the Solids value = \"))\n",
    "Chloramines=float(input(\"enter the Chloramines value = \"))\n",
    "Sulfate=float(input(\"enter the Sulfate value = \"))\n",
    "Conductivity=float(input(\"enter the Conductivity value = \"))\n",
    "Organic_carbon=float(input(\"enter the organic_carbon value = \"))\n",
    "Trihalomethanes =float(input(\"enter the Trihalomethanes value = \"))\n",
    "Turbidity=float(input(\"enter the Turbidity value = \"))\n",
    "\n",
    "input_data=[ph,Hardness, Solids, Chloramines, Sulfate, Conductivity,\n",
    "       Organic_carbon, Trihalomethanes, Turbidity]\n",
    "\n",
    "water_Quality_prediction(input_data)"
   ]
  },
  {
   "cell_type": "code",
   "execution_count": 40,
   "id": "6047a1cc",
   "metadata": {},
   "outputs": [
    {
     "name": "stdout",
     "output_type": "stream",
     "text": [
      "3.9.13\n"
     ]
    }
   ],
   "source": [
    "import platform\n",
    "print(platform.python_version())\n"
   ]
  },
  {
   "cell_type": "code",
   "execution_count": 41,
   "id": "bdc32ceb",
   "metadata": {},
   "outputs": [],
   "source": [
    "import joblib"
   ]
  },
  {
   "cell_type": "code",
   "execution_count": 42,
   "id": "6f32f1c4",
   "metadata": {},
   "outputs": [
    {
     "data": {
      "text/plain": [
       "['Water_Quality_ML_trained_model.save']"
      ]
     },
     "execution_count": 42,
     "metadata": {},
     "output_type": "execute_result"
    }
   ],
   "source": [
    "joblib.dump(best_estimator, 'Water_Quality_ML_trained_model.save')"
   ]
  },
  {
   "cell_type": "code",
   "execution_count": 43,
   "id": "48fb4326",
   "metadata": {},
   "outputs": [],
   "source": [
    "#file_name=\"Water_Quality_ML_trained_model.save\"\n",
    "#joblib.dump(best_estimator, open(file_name, \"wb\"))\n"
   ]
  },
  {
   "cell_type": "code",
   "execution_count": null,
   "id": "318603a7",
   "metadata": {},
   "outputs": [],
   "source": []
  }
 ],
 "metadata": {
  "kernelspec": {
   "display_name": "Python 3 (ipykernel)",
   "language": "python",
   "name": "python3"
  },
  "language_info": {
   "codemirror_mode": {
    "name": "ipython",
    "version": 3
   },
   "file_extension": ".py",
   "mimetype": "text/x-python",
   "name": "python",
   "nbconvert_exporter": "python",
   "pygments_lexer": "ipython3",
   "version": "3.9.13"
  }
 },
 "nbformat": 4,
 "nbformat_minor": 5
}
